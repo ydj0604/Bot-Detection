{
 "cells": [
  {
   "cell_type": "code",
   "execution_count": 21,
   "metadata": {
    "collapsed": false
   },
   "outputs": [
    {
     "name": "stdout",
     "output_type": "stream",
     "text": [
      "The rpy2.ipython extension is already loaded. To reload it, use:\n",
      "  %reload_ext rpy2.ipython\n"
     ]
    }
   ],
   "source": [
    "%load_ext rpy2.ipython"
   ]
  },
  {
   "cell_type": "code",
   "execution_count": 22,
   "metadata": {
    "collapsed": false
   },
   "outputs": [],
   "source": [
    "%%R\n",
    "trainData = data.matrix(read.csv( file=\"train.csv\", header=TRUE ))"
   ]
  },
  {
   "cell_type": "code",
   "execution_count": 23,
   "metadata": {
    "collapsed": false
   },
   "outputs": [
    {
     "data": {
      "text/plain": [
       "     bidder_id payment_account address outcome\n",
       "[1,]      1159             824    1363       0\n",
       "[2,]       774            1536    1480       0\n",
       "[3,]       219             620     955       0\n",
       "[4,]       623             315     507       0\n",
       "[5,]       614             770     262       0\n",
       "[6,]      1004            1645     595       0\n"
      ]
     },
     "metadata": {},
     "output_type": "display_data"
    }
   ],
   "source": [
    "%%R\n",
    "print(head(trainData))"
   ]
  },
  {
   "cell_type": "code",
   "execution_count": 24,
   "metadata": {
    "collapsed": false
   },
   "outputs": [],
   "source": [
    "# %%R\n",
    "# bidsDataSet = data.matrix(read.csv( file=\"bids.csv\", header=TRUE ))\n",
    "# print(head(bidsDataSet))"
   ]
  },
  {
   "cell_type": "code",
   "execution_count": 25,
   "metadata": {
    "collapsed": false
   },
   "outputs": [],
   "source": [
    "# import csv\n",
    "# import re\n",
    "\n",
    "# #test two sample bidders\n",
    "\n",
    "# bidsFile = open('bids.csv', 'rU')\n",
    "\n",
    "# testBotBidder = '5354c02817e47f28e60e44a40ca5e48dll4sz'\n",
    "# testHumBidder = '91a3c57b13234af24875c56fb7e2b2f4rb56a'\n",
    "\n",
    "# foutBot = open('botBidder.csv', 'wb')\n",
    "# foutHum = open('humanBidder.csv', 'wb')\n",
    "# fin = open('bids.csv', 'rU')\n",
    "# rdr = csv.reader(fin, delimiter=',')\n",
    "# wtrBot = csv.writer(foutBot, delimiter=',')\n",
    "# wtrHum = csv.writer(foutHum, delimiter=',')\n",
    "\n",
    "# for row in rdr:\n",
    "#     if row[1] == 'bidder_id':\n",
    "#         wtrBot.writerow(row[2:])\n",
    "#         wtrHum.writerow(row[2:])\n",
    "#     if row[1] == testBotBidder:\n",
    "#         wtrBot.writerow(row[2:])\n",
    "#     if row[1] == testHumBidder:\n",
    "#         wtrHum.writerow(row[2:])\n",
    "#     if row[8] == \"\": #check if an empty cell exists\n",
    "#         print row[1]\n",
    "        \n",
    "# foutBot.close()\n",
    "# foutHum.close()\n",
    "# fin.close()\n"
   ]
  },
  {
   "cell_type": "code",
   "execution_count": 26,
   "metadata": {
    "collapsed": false
   },
   "outputs": [
    {
     "name": "stdout",
     "output_type": "stream",
     "text": [
      "starting ...\n",
      "2013\n"
     ]
    }
   ],
   "source": [
    "import csv\n",
    "\n",
    "#build a dictionary : bidder id -> class\n",
    "\n",
    "print('starting ...')\n",
    "\n",
    "fin = open('train.csv', 'rU')\n",
    "rdr = csv.reader(fin, delimiter=',')\n",
    "\n",
    "bidderIdToClass = {}\n",
    "\n",
    "for row in rdr:\n",
    "    bidderId = row[0]\n",
    "    if row[3] == '1.0': #it is a bot\n",
    "        bidderIdToClass[bidderId] = 1\n",
    "    elif row[3] == '0.0':\n",
    "        bidderIdToClass[bidderId] = 0\n",
    "\n",
    "# for key, val in bidderIdToClass.items():\n",
    "#     print(key + ': ' + str(val) + '\\n')\n",
    "\n",
    "print(len(bidderIdToClass))\n",
    "\n",
    "#1910 human bidders, 103 bot bidders (classified) ???\n",
    "\n",
    "fin.close()"
   ]
  },
  {
   "cell_type": "code",
   "execution_count": 9,
   "metadata": {
    "collapsed": false
   },
   "outputs": [
    {
     "name": "stdout",
     "output_type": "stream",
     "text": [
      "starting ...\n",
      "4585110\n",
      "done\n"
     ]
    }
   ],
   "source": [
    "import csv\n",
    "\n",
    "#separate bids file into bot_bids and hum_bids\n",
    "\n",
    "print('starting ...')\n",
    "\n",
    "fin = open('bids.csv', 'rU')\n",
    "rdr = csv.reader(fin, delimiter=',')\n",
    "\n",
    "botFout = open('bot_bids.csv', 'wb')\n",
    "humFout = open('hum_bids.csv', 'wb')\n",
    "trainFout = open('train_bids.csv', 'wb')\n",
    "\n",
    "botWtr = csv.writer(botFout, delimiter=',')\n",
    "humWtr = csv.writer(humFout, delimiter=',')\n",
    "trainWtr = csv.writer(trainFout, delimiter=',')\n",
    "dummyRowCount = 0\n",
    "\n",
    "#write only the bidders which exist in training dataset\n",
    "for row in rdr:\n",
    "    bidderId = row[1]\n",
    "    if row[0] == 'bid_id': #header\n",
    "        botWtr.writerow(row)\n",
    "        humWtr.writerow(row)\n",
    "    elif bidderIdToClass.has_key(bidderId) and bidderIdToClass[bidderId] == 1:\n",
    "        botWtr.writerow(row)\n",
    "    elif bidderIdToClass.has_key(bidderId) and bidderIdToClass[bidderId] == 0:\n",
    "        humWtr.writerow(row)\n",
    "    else:\n",
    "        dummyRowCount = dummyRowCount + 1\n",
    "        \n",
    "    if bidderIdToClass.has_key(bidderId): #write both hum and bot in training dataset\n",
    "        trainWtr.writerow(row)\n",
    "        \n",
    "fin.close()\n",
    "botFout.close()\n",
    "humFout.close()\n",
    "trainFout.close()\n",
    "\n",
    "print(dummyRowCount)\n",
    "print('done')"
   ]
  },
  {
   "cell_type": "code",
   "execution_count": 32,
   "metadata": {
    "collapsed": false
   },
   "outputs": [
    {
     "name": "stdout",
     "output_type": "stream",
     "text": [
      "Bot bidders: 103\n"
     ]
    }
   ],
   "source": [
    "import csv\n",
    "\n",
    "#process bot bidders info\n",
    "\n",
    "fin = open('bot_bids.csv', 'rU')\n",
    "rdr = csv.reader(fin, delimiter=',')\n",
    "\n",
    "# things to consider for each bidder\n",
    "# -arrival distribution\n",
    "# -min interval (with sliding window of a certain size)\n",
    "# -total number of bids\n",
    "# -number of devices used\n",
    "# -number of auctions used\n",
    "# -number of different merchandises (categories)\n",
    "# -type of merchandises\n",
    "# -number of countries accessed \n",
    "# -what time during the day\n",
    "# -number of urls accessed from\n",
    "\n",
    "\n",
    "#bidderIdToNumBids = {}\n",
    "bidderIdToInfo = {} #bidderId -> info object\n",
    "\n",
    "slidingWindowSize = 10\n",
    "\n",
    "for row in rdr:\n",
    "    bidderId = row[1]\n",
    "    currArrivalTime = row[5]\n",
    "    currMerchandise = row[3]\n",
    "    if bidderId == 'bidder_id':\n",
    "        continue\n",
    "    elif bidderIdToInfo.has_key(bidderId):\n",
    "        #number of bids\n",
    "        bidderIdToInfo[bidderId]['numBids'] = bidderIdToInfo[bidderId]['numBids'] + 1\n",
    "        \n",
    "        #interval\n",
    "        arrivalTimesList = bidderIdToInfo[bidderId]['arrivalTimes']\n",
    "        arrivalTimesList.append(currArrivalTime) #append the new arrival time\n",
    "        length = len(arrivalTimesList)\n",
    "        bidderIdToInfo[bidderId]['avgInterval'] = (int(currArrivalTime)-int(arrivalTimesList[0])) / (length-1)\n",
    "        if length >= slidingWindowSize: #window size at least = 3\n",
    "            currMin = (int(currArrivalTime) - int(arrivalTimesList[length-slidingWindowSize])) / (slidingWindowSize-1)\n",
    "            if bidderIdToInfo[bidderId]['minInterval'] == '' or currMin < bidderIdToInfo[bidderId]['minInterval']:\n",
    "                bidderIdToInfo[bidderId]['minInterval'] = currMin\n",
    "                \n",
    "        #merchandises\n",
    "        merchandises = bidderIdToInfo[bidderId]['merchandises']\n",
    "        if merchandises.has_key(currMerchandise):\n",
    "            merchandises[currMerchandise] = merchandises[currMerchandise] + 1\n",
    "        else:\n",
    "            merchandises[currMerchandise] = 1\n",
    "    else:\n",
    "        newInfo = {}\n",
    "        newInfo['numBids'] = 1\n",
    "        arrivalTimesList = []\n",
    "        arrivalTimesList.append(currArrivalTime) #append the arrival time of the current bid\n",
    "        newInfo['arrivalTimes'] = arrivalTimesList\n",
    "        newInfo['avgInterval'] = ''\n",
    "        newInfo['minInterval'] = ''\n",
    "        newMerchandises = {}\n",
    "        newMerchandises[currMerchandise] = 1\n",
    "        newInfo['merchandises'] = newMerchandises\n",
    "        bidderIdToInfo[bidderId] = newInfo\n",
    "        \n",
    "fin.close()\n",
    "\n",
    "#write the results\n",
    "fout = open('bot_bidders_info.csv', 'wb')\n",
    "wtr = csv.writer(fout, delimiter=',')\n",
    "\n",
    "wtr.writerow(['bidder_id', 'number of bids', 'avg arrival interval', 'min interval', 'number of merchandises'])\n",
    "for key, val in bidderIdToInfo.items():\n",
    "    currRowVec = [key, str(val['numBids']), val['avgInterval'], val['minInterval'], len(val['merchandises'])]\n",
    "    wtr.writerow(currRowVec)\n",
    "\n",
    "# for key, val in bidderIdToNumBids.items():\n",
    "#     currRowVec = [key, str(val)]\n",
    "#     wtr.writerow(currRowVec)\n",
    "    \n",
    "fout.close()\n",
    "\n",
    "print('Bot bidders: ' + str(len(bidderIdToInfo)))"
   ]
  },
  {
   "cell_type": "code",
   "execution_count": 34,
   "metadata": {
    "collapsed": false
   },
   "outputs": [
    {
     "name": "stdout",
     "output_type": "stream",
     "text": [
      "Hum bidders: 1881\n"
     ]
    }
   ],
   "source": [
    "import csv\n",
    "\n",
    "#process bot bidders info\n",
    "\n",
    "fin = open('hum_bids.csv', 'rU')\n",
    "rdr = csv.reader(fin, delimiter=',')\n",
    "\n",
    "# things to consider for each bidder\n",
    "# -arrival distribution\n",
    "# -max rate\n",
    "# -total number of bids\n",
    "# -number of devices used\n",
    "# -number of auctions used\n",
    "# -number of different merchandises (categories)\n",
    "# -number of countries accessed \n",
    "\n",
    "\n",
    "#bidderIdToNumBids = {}\n",
    "bidderIdToInfo = {} #bidderId -> info object\n",
    "\n",
    "for row in rdr:\n",
    "    bidderId = row[1]\n",
    "    currArrivalTime = row[5]\n",
    "    currMerchandise = row[3]\n",
    "    if bidderId == 'bidder_id':\n",
    "        continue\n",
    "    elif bidderIdToInfo.has_key(bidderId):\n",
    "        #number of bids\n",
    "        bidderIdToInfo[bidderId]['numBids'] = bidderIdToInfo[bidderId]['numBids'] + 1\n",
    "        \n",
    "        #interval\n",
    "        arrivalTimesList = bidderIdToInfo[bidderId]['arrivalTimes']\n",
    "        arrivalTimesList.append(currArrivalTime) #append the new arrival time\n",
    "        length = len(arrivalTimesList)\n",
    "        bidderIdToInfo[bidderId]['avgInterval'] = (int(currArrivalTime)-int(arrivalTimesList[0])) / (length-1)\n",
    "        if length >= slidingWindowSize: #window size at least = 3\n",
    "            currMin = (int(currArrivalTime) - int(arrivalTimesList[length-slidingWindowSize])) / (slidingWindowSize-1)\n",
    "            if bidderIdToInfo[bidderId]['minInterval'] == '' or currMin < bidderIdToInfo[bidderId]['minInterval']:\n",
    "                bidderIdToInfo[bidderId]['minInterval'] = currMin\n",
    "                \n",
    "        #merchandises\n",
    "        merchandises = bidderIdToInfo[bidderId]['merchandises']\n",
    "        if merchandises.has_key(currMerchandise):\n",
    "            merchandises[currMerchandise] = merchandises[currMerchandise] + 1\n",
    "        else:\n",
    "            merchandises[currMerchandise] = 1\n",
    "    else:\n",
    "        newInfo = {}\n",
    "        newInfo['numBids'] = 1\n",
    "        arrivalTimesList = []\n",
    "        arrivalTimesList.append(currArrivalTime) #append the arrival time of the current bid\n",
    "        newInfo['arrivalTimes'] = arrivalTimesList\n",
    "        newInfo['avgInterval'] = ''\n",
    "        newInfo['minInterval'] = ''\n",
    "        newMerchandises = {}\n",
    "        newMerchandises[currMerchandise] = 1\n",
    "        newInfo['merchandises'] = newMerchandises\n",
    "        bidderIdToInfo[bidderId] = newInfo\n",
    "        \n",
    "fin.close()\n",
    "        \n",
    "fout = open('hum_bidders_info.csv', 'wb')\n",
    "wtr = csv.writer(fout, delimiter=',')\n",
    "\n",
    "wtr.writerow(['bidder_id', 'number of bids', 'avg arrival interval', 'min interval', 'number of merchandises'])\n",
    "for key, val in bidderIdToInfo.items():\n",
    "    currRowVec = [key, str(val['numBids']), val['avgInterval'], val['minInterval'], len(val['merchandises'])]\n",
    "    wtr.writerow(currRowVec)\n",
    "\n",
    "# for key, val in bidderIdToNumBids.items():\n",
    "#     currRowVec = [key, str(val)]\n",
    "#     wtr.writerow(currRowVec)\n",
    "    \n",
    "fout.close()\n",
    "\n",
    "print('Hum bidders: ' + str(len(bidderIdToInfo)))"
   ]
  },
  {
   "cell_type": "code",
   "execution_count": 20,
   "metadata": {
    "collapsed": false
   },
   "outputs": [
    {
     "name": "stdout",
     "output_type": "stream",
     "text": [
      "29\n",
      "2013\n"
     ]
    }
   ],
   "source": [
    "import csv\n",
    "\n",
    "#bidderIdToClass from train.csv\n",
    "#2013 - 1881 - 103 = 29 leftovers\n",
    "#verify the number of leftovers (that have no bid in bids.csv)\n",
    "\n",
    "bidderIdToClassTemp = bidderIdToClass.copy()\n",
    "\n",
    "fin = open('bids.csv', 'rU')\n",
    "rdr = csv.reader(fin, delimiter=',')\n",
    "\n",
    "for row in rdr:\n",
    "    bidderId = row[1]\n",
    "    if bidderIdToClassTemp.has_key(bidderId):\n",
    "        del bidderIdToClassTemp[bidderId]\n",
    "        \n",
    "fin.close()\n",
    "print(len(bidderIdToClassTemp))\n",
    "print(len(bidderIdToClass))"
   ]
  },
  {
   "cell_type": "code",
   "execution_count": null,
   "metadata": {
    "collapsed": true
   },
   "outputs": [],
   "source": []
  }
 ],
 "metadata": {
  "kernelspec": {
   "display_name": "Python 2",
   "language": "python",
   "name": "python2"
  },
  "language_info": {
   "codemirror_mode": {
    "name": "ipython",
    "version": 2
   },
   "file_extension": ".py",
   "mimetype": "text/x-python",
   "name": "python",
   "nbconvert_exporter": "python",
   "pygments_lexer": "ipython2",
   "version": "2.7.9"
  }
 },
 "nbformat": 4,
 "nbformat_minor": 0
}
