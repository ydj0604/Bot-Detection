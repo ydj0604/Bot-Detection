{
 "cells": [
  {
   "cell_type": "code",
   "execution_count": 1,
   "metadata": {
    "collapsed": false
   },
   "outputs": [],
   "source": [
    "%load_ext rpy2.ipython"
   ]
  },
  {
   "cell_type": "code",
   "execution_count": 2,
   "metadata": {
    "collapsed": true
   },
   "outputs": [],
   "source": [
    "%%R\n",
    "testData = data.matrix(read.csv( file=\"test.csv\", header=TRUE ))"
   ]
  },
  {
   "cell_type": "code",
   "execution_count": 3,
   "metadata": {
    "collapsed": false
   },
   "outputs": [
    {
     "data": {
      "text/plain": [
       "     bidder_id payment_account address\n",
       "[1,]      1345            2638    1338\n",
       "[2,]      3105            3345    2890\n",
       "[3,]      1978            1260    2650\n",
       "[4,]      4322            3038    3530\n",
       "[5,]      3800            2376    3774\n",
       "[6,]      3895            3568    2145\n"
      ]
     },
     "metadata": {},
     "output_type": "display_data"
    }
   ],
   "source": [
    "%%R\n",
    "print(head(testData))"
   ]
  },
  {
   "cell_type": "code",
   "execution_count": 4,
   "metadata": {
    "collapsed": false
   },
   "outputs": [
    {
     "name": "stdout",
     "output_type": "stream",
     "text": [
      "starting ...\n",
      "4700\n"
     ]
    }
   ],
   "source": [
    "import csv\n",
    "from sets import Set\n",
    "\n",
    "#build a set of bidder ids\n",
    "\n",
    "print('starting ...')\n",
    "\n",
    "fin = open('test.csv', 'rU')\n",
    "rdr = csv.reader(fin, delimiter=',')\n",
    "\n",
    "bidderIdSet = Set([])\n",
    "\n",
    "for row in rdr:\n",
    "    bidderId = row[0]\n",
    "    if bidderId == 'bidder_id': #skip header\n",
    "        continue\n",
    "    bidderIdSet.add(bidderId)\n",
    "\n",
    "print(len(bidderIdSet))\n",
    "\n",
    "fin.close()"
   ]
  },
  {
   "cell_type": "code",
   "execution_count": 5,
   "metadata": {
    "collapsed": false
   },
   "outputs": [
    {
     "name": "stdout",
     "output_type": "stream",
     "text": [
      "starting ...\n",
      "done\n"
     ]
    }
   ],
   "source": [
    "import csv\n",
    "\n",
    "#separate bids for test bidders\n",
    "\n",
    "print('starting ...')\n",
    "\n",
    "fin = open('bids.csv', 'rU')\n",
    "rdr = csv.reader(fin, delimiter=',')\n",
    "\n",
    "testFout = open('test_bids.csv', 'wb')\n",
    "testWtr = csv.writer(testFout, delimiter=',')\n",
    "\n",
    "#write only the bidders which exist in test dataset\n",
    "for row in rdr:\n",
    "    bidderId = row[1]\n",
    "    if row[0] == 'bid_id': #header\n",
    "        testWtr.writerow(row)\n",
    "    elif bidderId in bidderIdSet:\n",
    "        testWtr.writerow(row)\n",
    "        \n",
    "fin.close()\n",
    "testFout.close()\n",
    "\n",
    "print('done')"
   ]
  },
  {
   "cell_type": "code",
   "execution_count": 7,
   "metadata": {
    "collapsed": false
   },
   "outputs": [
    {
     "name": "stdout",
     "output_type": "stream",
     "text": [
      "Test bidders: 4630\n"
     ]
    }
   ],
   "source": [
    "import csv\n",
    "\n",
    "#process test bidders info\n",
    "\n",
    "fin = open('test_bids.csv', 'rU')\n",
    "rdr = csv.reader(fin, delimiter=',')\n",
    "\n",
    "slidingWindowSize = 10\n",
    "\n",
    "bidderIdToInfo = {} #bidderId -> info object\n",
    "\n",
    "for row in rdr:\n",
    "    bidderId = row[1]\n",
    "    currArrivalTime = row[5]\n",
    "    currMerchandise = row[3]\n",
    "    currAuction = row[2]\n",
    "    currURL = row[8]\n",
    "    currDevice = row[4]\n",
    "    currCountry = row[6]\n",
    "    \n",
    "    if bidderId == 'bidder_id':\n",
    "        continue\n",
    "    elif bidderIdToInfo.has_key(bidderId):\n",
    "        #number of bids\n",
    "        bidderIdToInfo[bidderId]['numBids'] = bidderIdToInfo[bidderId]['numBids'] + 1\n",
    "        \n",
    "        #interval\n",
    "        arrivalTimesList = bidderIdToInfo[bidderId]['arrivalTimes']\n",
    "        arrivalTimesList.append(currArrivalTime) #append the new arrival time\n",
    "        length = len(arrivalTimesList)\n",
    "        bidderIdToInfo[bidderId]['avgInterval'] = (int(currArrivalTime)-int(arrivalTimesList[0])) / (length-1)\n",
    "        if length >= slidingWindowSize: #window size at least = 3\n",
    "            currMin = (int(currArrivalTime) - int(arrivalTimesList[length-slidingWindowSize])) / (slidingWindowSize-1)\n",
    "            if bidderIdToInfo[bidderId]['minInterval'] == '' or currMin < bidderIdToInfo[bidderId]['minInterval']:\n",
    "                bidderIdToInfo[bidderId]['minInterval'] = currMin\n",
    "                \n",
    "        #merchandises\n",
    "        merchandises = bidderIdToInfo[bidderId]['merchandises']\n",
    "        if merchandises.has_key(currMerchandise):\n",
    "            merchandises[currMerchandise] = merchandises[currMerchandise] + 1\n",
    "        else:\n",
    "            merchandises[currMerchandise] = 1\n",
    "            \n",
    "        #auctions\n",
    "        auctions = bidderIdToInfo[bidderId]['auctions']\n",
    "        if not auctions.has_key(currAuction):\n",
    "            auctions[currAuction] = 1\n",
    "        \n",
    "        #urls\n",
    "        urls = bidderIdToInfo[bidderId]['urls']\n",
    "        if not urls.has_key(currURL):\n",
    "            urls[currURL] = 1\n",
    "            \n",
    "        #devices\n",
    "        devices = bidderIdToInfo[bidderId]['devices']\n",
    "        if not devices.has_key(currDevice):\n",
    "            devices[currDevice] = 1\n",
    "        \n",
    "        #countries\n",
    "        countries = bidderIdToInfo[bidderId]['countries']\n",
    "        if not countries.has_key(currCountry):\n",
    "            countries[currCountry] = 1\n",
    "        \n",
    "    else:\n",
    "        newInfo = {}\n",
    "        newInfo['numBids'] = 1\n",
    "        arrivalTimesList = []\n",
    "        arrivalTimesList.append(currArrivalTime) #append the arrival time of the current bid\n",
    "        newInfo['arrivalTimes'] = arrivalTimesList\n",
    "        newInfo['avgInterval'] = ''\n",
    "        newInfo['minInterval'] = ''\n",
    "        \n",
    "        newMerchandises = {}\n",
    "        newMerchandises[currMerchandise] = 1\n",
    "        newInfo['merchandises'] = newMerchandises\n",
    "        \n",
    "        newAuctions = {}\n",
    "        newAuctions[currAuction] = 1\n",
    "        newInfo['auctions'] = newAuctions\n",
    "        \n",
    "        newURLs = {}\n",
    "        newURLs[currURL] = 1\n",
    "        newInfo['urls'] = newURLs\n",
    "        \n",
    "        newDevices = {}\n",
    "        newDevices[currDevice] = 1\n",
    "        newInfo['devices'] = newDevices\n",
    "        \n",
    "        newCountries = {}\n",
    "        newCountries[currCountry] = 1\n",
    "        newInfo['countries'] = newCountries\n",
    "        \n",
    "        bidderIdToInfo[bidderId] = newInfo\n",
    "        \n",
    "fin.close()\n",
    "\n",
    "#write the results\n",
    "fout = open('test_bidders_info.csv', 'wb')\n",
    "wtr = csv.writer(fout, delimiter=',')\n",
    "\n",
    "wtr.writerow(['bidder_id', 'number of bids', 'avg arrival interval', 'min interval', 'number of auctions', 'number of urls', 'merchandise', 'number of devices', 'number of countries'])\n",
    "for key, val in bidderIdToInfo.items(): \n",
    "    merchList = val['merchandises'].keys()[0] #there exists only one merchandise per bidder\n",
    "    currRowVec = [key, str(val['numBids']), val['avgInterval'], val['minInterval'], len(val['auctions']), len(val['urls']), merchList, len(val['devices']), len(val['countries'])]\n",
    "    wtr.writerow(currRowVec)\n",
    "    \n",
    "fout.close()\n",
    "\n",
    "print('Test bidders: ' + str(len(bidderIdToInfo)))"
   ]
  },
  {
   "cell_type": "code",
   "execution_count": 8,
   "metadata": {
    "collapsed": false
   },
   "outputs": [
    {
     "name": "stdout",
     "output_type": "stream",
     "text": [
      "starting ...\n",
      "6610\n",
      "done\n"
     ]
    }
   ],
   "source": [
    "#reaction time for each bidder\n",
    "\n",
    "import csv\n",
    "\n",
    "print('starting ...')\n",
    "\n",
    "fin = open('bids.csv', 'rU')\n",
    "rdr = csv.reader(fin, delimiter=',')\n",
    "\n",
    "bidderIdToReactionTimeList = {}\n",
    "auctionToLastBid = {}\n",
    "firstRow = True\n",
    "\n",
    "for row in rdr:\n",
    "    if firstRow:\n",
    "        firstRow = False\n",
    "        continue\n",
    "    \n",
    "    bidderId = row[1]\n",
    "    auction = row[2]\n",
    "    time = int(row[5])\n",
    "    \n",
    "    if not auctionToLastBid.has_key(auction):\n",
    "        auctionToLastBid[auction] = time\n",
    "        continue\n",
    "        \n",
    "    reactionTime = time - auctionToLastBid[auction]\n",
    "    auctionToLastBid[auction] = time\n",
    "        \n",
    "    if not bidderIdToReactionTimeList.has_key(bidderId):\n",
    "        newList = [reactionTime]\n",
    "        bidderIdToReactionTimeList[bidderId] = newList\n",
    "    else:\n",
    "        reactTimeList = bidderIdToReactionTimeList[bidderId]\n",
    "        reactTimeList.append(reactionTime)\n",
    "    \n",
    "        \n",
    "fin.close()\n",
    "\n",
    "print(len(bidderIdToReactionTimeList))\n",
    "print('done')"
   ]
  },
  {
   "cell_type": "code",
   "execution_count": 10,
   "metadata": {
    "collapsed": false
   },
   "outputs": [
    {
     "name": "stdout",
     "output_type": "stream",
     "text": [
      "7a1eed5c707439cd630acffb3b3dc298dhz6q\n",
      "f7b6e7e8d3ac5b17ee7673699899e2e0dwvpa\n",
      "8f434535037d1ea471a068b2354af83eihjbk\n",
      "done\n"
     ]
    }
   ],
   "source": [
    "#attach reaction time feature with bidderIdToReactionTimeList\n",
    "\n",
    "import numpy\n",
    "def median(lst):\n",
    "    return numpy.median(numpy.array(lst))\n",
    "\n",
    "#modify human info\n",
    "\n",
    "fin = open('test_bidders_info.csv', 'rU')\n",
    "rdr = csv.reader(fin, delimiter=',')\n",
    "fout = open('test_bidders_info_final.csv', 'wb')\n",
    "wtr = csv.writer(fout, delimiter=',')\n",
    "\n",
    "firstRow = True\n",
    "for row in rdr:\n",
    "    if firstRow:\n",
    "        firstRow = False\n",
    "        row.append('min reaction time')\n",
    "        row.append('median reaction time')\n",
    "        wtr.writerow(row)\n",
    "        continue\n",
    "        \n",
    "    bidderId = row[0]\n",
    "    \n",
    "    if not bidderIdToReactionTimeList.has_key(bidderId): #if the bidder made only one bid as the first in the auction\n",
    "        print bidderId\n",
    "        wtr.writerow(row)\n",
    "        continue\n",
    "    \n",
    "    reactionTimeList = bidderIdToReactionTimeList[bidderId]\n",
    "    row.append(min(reactionTimeList))\n",
    "    row.append(median(reactionTimeList))\n",
    "    wtr.writerow(row)\n",
    "\n",
    "fin.close()\n",
    "fout.close()\n",
    "\n",
    "print(\"done\")"
   ]
  },
  {
   "cell_type": "code",
   "execution_count": null,
   "metadata": {
    "collapsed": true
   },
   "outputs": [],
   "source": []
  }
 ],
 "metadata": {
  "kernelspec": {
   "display_name": "Python 2",
   "language": "python",
   "name": "python2"
  },
  "language_info": {
   "codemirror_mode": {
    "name": "ipython",
    "version": 2
   },
   "file_extension": ".py",
   "mimetype": "text/x-python",
   "name": "python",
   "nbconvert_exporter": "python",
   "pygments_lexer": "ipython2",
   "version": "2.7.9"
  }
 },
 "nbformat": 4,
 "nbformat_minor": 0
}
