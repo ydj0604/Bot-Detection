{
 "cells": [
  {
   "cell_type": "code",
   "execution_count": 11,
   "metadata": {
    "collapsed": false
   },
   "outputs": [
    {
     "name": "stdout",
     "output_type": "stream",
     "text": [
      "The rpy2.ipython extension is already loaded. To reload it, use:\n",
      "  %reload_ext rpy2.ipython\n"
     ]
    }
   ],
   "source": [
    "%load_ext rpy2.ipython"
   ]
  },
  {
   "cell_type": "code",
   "execution_count": 12,
   "metadata": {
    "collapsed": true
   },
   "outputs": [],
   "source": [
    "%%R\n",
    "testData = data.matrix(read.csv( file=\"test.csv\", header=TRUE ))"
   ]
  },
  {
   "cell_type": "code",
   "execution_count": 13,
   "metadata": {
    "collapsed": false
   },
   "outputs": [
    {
     "data": {
      "text/plain": [
       "     bidder_id payment_account address\n",
       "[1,]      1345            2638    1338\n",
       "[2,]      3105            3345    2890\n",
       "[3,]      1978            1260    2650\n",
       "[4,]      4322            3038    3530\n",
       "[5,]      3800            2376    3774\n",
       "[6,]      3895            3568    2145\n"
      ]
     },
     "metadata": {},
     "output_type": "display_data"
    }
   ],
   "source": [
    "%%R\n",
    "print(head(testData))"
   ]
  },
  {
   "cell_type": "code",
   "execution_count": 14,
   "metadata": {
    "collapsed": false
   },
   "outputs": [
    {
     "name": "stdout",
     "output_type": "stream",
     "text": [
      "starting ...\n",
      "4700\n"
     ]
    }
   ],
   "source": [
    "import csv\n",
    "from sets import Set\n",
    "\n",
    "#build a set of bidder ids\n",
    "\n",
    "print('starting ...')\n",
    "\n",
    "fin = open('test.csv', 'rU')\n",
    "rdr = csv.reader(fin, delimiter=',')\n",
    "\n",
    "bidderIdSet = Set([])\n",
    "\n",
    "for row in rdr:\n",
    "    bidderId = row[0]\n",
    "    if bidderId == 'bidder_id': #skip header\n",
    "        continue\n",
    "    bidderIdSet.add(bidderId)\n",
    "\n",
    "print(len(bidderIdSet))\n",
    "\n",
    "fin.close()"
   ]
  },
  {
   "cell_type": "code",
   "execution_count": 15,
   "metadata": {
    "collapsed": false
   },
   "outputs": [
    {
     "name": "stdout",
     "output_type": "stream",
     "text": [
      "starting ...\n",
      "done\n"
     ]
    }
   ],
   "source": [
    "import csv\n",
    "\n",
    "#separate bids for test bidders\n",
    "\n",
    "print('starting ...')\n",
    "\n",
    "fin = open('bids.csv', 'rU')\n",
    "rdr = csv.reader(fin, delimiter=',')\n",
    "\n",
    "testFout = open('test_bids.csv', 'wb')\n",
    "testWtr = csv.writer(testFout, delimiter=',')\n",
    "\n",
    "#write only the bidders which exist in test dataset\n",
    "for row in rdr:\n",
    "    bidderId = row[1]\n",
    "    if row[0] == 'bid_id': #header\n",
    "        testWtr.writerow(row)\n",
    "    elif bidderId in bidderIdSet:\n",
    "        testWtr.writerow(row)\n",
    "        \n",
    "fin.close()\n",
    "testFout.close()\n",
    "\n",
    "print('done')"
   ]
  },
  {
   "cell_type": "code",
   "execution_count": 17,
   "metadata": {
    "collapsed": false
   },
   "outputs": [
    {
     "name": "stdout",
     "output_type": "stream",
     "text": [
      "Test bidders: 4630\n"
     ]
    }
   ],
   "source": [
    "import csv\n",
    "\n",
    "#process test bidders info\n",
    "\n",
    "fin = open('test_bids.csv', 'rU')\n",
    "rdr = csv.reader(fin, delimiter=',')\n",
    "\n",
    "# things to consider for each bidder\n",
    "# -arrival distribution\n",
    "# -max rate\n",
    "# -total number of bids\n",
    "# -number of devices used\n",
    "# -number of auctions used\n",
    "# -number of different merchandises (categories)\n",
    "# -number of countries accessed \n",
    "\n",
    "\n",
    "bidderIdToInfo = {} #bidderId -> info object\n",
    "\n",
    "for row in rdr:\n",
    "    bidderId = row[1]\n",
    "    if bidderId == 'bidder_id':\n",
    "        continue\n",
    "    elif bidderIdToInfo.has_key(bidderId):\n",
    "        bidderIdToInfo[bidderId]['numBids'] = bidderIdToInfo[bidderId]['numBids'] + 1\n",
    "        arrivalTimesList = bidderIdToInfo[bidderId]['arrivalTimes']\n",
    "        arrivalTimesList.append(row[5]) #append the new arrival time\n",
    "        length = len(arrivalTimesList)\n",
    "        bidderIdToInfo[bidderId]['avgRate'] = (int(row[5])-int(bidderIdToInfo[bidderId]['arrivalTimes'][0])) / (length-1)\n",
    "    else:\n",
    "        newInfo = {}\n",
    "        newInfo['numBids'] = 1\n",
    "        arrivalTimesList = []\n",
    "        arrivalTimesList.append(row[5]) #append the arrival time of the current bid\n",
    "        newInfo['arrivalTimes'] = arrivalTimesList\n",
    "        newInfo['avgRate'] = '' #put -1 for test dataset ???\n",
    "        bidderIdToInfo[bidderId] = newInfo\n",
    "        \n",
    "fin.close()\n",
    "        \n",
    "fout = open('test_bidders_info.csv', 'wb')\n",
    "wtr = csv.writer(fout, delimiter=',')\n",
    "\n",
    "wtr.writerow(['bidder_id', 'number of bids', 'avg arrival interval', 'arrival times'])\n",
    "for key, val in bidderIdToInfo.items():\n",
    "    currRowVec = [key, str(val['numBids']), val['avgRate'], ','.join(val['arrivalTimes'])]\n",
    "    wtr.writerow(currRowVec)\n",
    "    \n",
    "fout.close()\n",
    "\n",
    "print('Test bidders: ' + str(len(bidderIdToInfo)))"
   ]
  },
  {
   "cell_type": "code",
   "execution_count": null,
   "metadata": {
    "collapsed": true
   },
   "outputs": [],
   "source": []
  }
 ],
 "metadata": {
  "kernelspec": {
   "display_name": "Python 2",
   "language": "python",
   "name": "python2"
  },
  "language_info": {
   "codemirror_mode": {
    "name": "ipython",
    "version": 2
   },
   "file_extension": ".py",
   "mimetype": "text/x-python",
   "name": "python",
   "nbconvert_exporter": "python",
   "pygments_lexer": "ipython2",
   "version": "2.7.9"
  }
 },
 "nbformat": 4,
 "nbformat_minor": 0
}
