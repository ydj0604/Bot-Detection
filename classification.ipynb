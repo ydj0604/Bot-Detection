{
 "cells": [
  {
   "cell_type": "code",
   "execution_count": 51,
   "metadata": {
    "collapsed": true
   },
   "outputs": [],
   "source": [
    "%matplotlib inline\n",
    "import matplotlib.pyplot as plt\n",
    "import numpy as np\n",
    "import pandas as pd"
   ]
  },
  {
   "cell_type": "code",
   "execution_count": 52,
   "metadata": {
    "collapsed": true
   },
   "outputs": [],
   "source": [
    "botData = pd.read_csv('bot_bidders_info.csv')\n",
    "humData = pd.read_csv('hum_bidders_info.csv')"
   ]
  },
  {
   "cell_type": "code",
   "execution_count": 95,
   "metadata": {
    "collapsed": false
   },
   "outputs": [
    {
     "data": {
      "text/html": [
       "<div style=\"max-height:1000px;max-width:1500px;overflow:auto;\">\n",
       "<table border=\"1\" class=\"dataframe\">\n",
       "  <thead>\n",
       "    <tr style=\"text-align: right;\">\n",
       "      <th></th>\n",
       "      <th>bidder_id</th>\n",
       "      <th>number of bids</th>\n",
       "      <th>avg arrival interval</th>\n",
       "      <th>min interval</th>\n",
       "    </tr>\n",
       "  </thead>\n",
       "  <tbody>\n",
       "    <tr>\n",
       "      <th>0</th>\n",
       "      <td> 060ac64ff78ae62e9bc697192cebea333760p</td>\n",
       "      <td>  194</td>\n",
       "      <td> 63665394055</td>\n",
       "      <td> 1187134502</td>\n",
       "    </tr>\n",
       "    <tr>\n",
       "      <th>1</th>\n",
       "      <td> 7505bfc1ca67a5ae14e329b46a88ab869ms9g</td>\n",
       "      <td>  798</td>\n",
       "      <td> 17059763587</td>\n",
       "      <td> 2011695906</td>\n",
       "    </tr>\n",
       "    <tr>\n",
       "      <th>2</th>\n",
       "      <td> b1863365ae232a316eb946ba56a29415m0gdz</td>\n",
       "      <td> 5329</td>\n",
       "      <td>  2551307886</td>\n",
       "      <td>   70175438</td>\n",
       "    </tr>\n",
       "    <tr>\n",
       "      <th>3</th>\n",
       "      <td> 458c8c4e10e5c1b29e3fbe5ee56d46e8y3fb3</td>\n",
       "      <td> 1165</td>\n",
       "      <td> 11717444384</td>\n",
       "      <td> 2783625731</td>\n",
       "    </tr>\n",
       "    <tr>\n",
       "      <th>4</th>\n",
       "      <td> 6533b670e02ccf583288ba7c8f5fb1carmirt</td>\n",
       "      <td>  425</td>\n",
       "      <td> 21576961271</td>\n",
       "      <td>  222222222</td>\n",
       "    </tr>\n",
       "  </tbody>\n",
       "</table>\n",
       "</div>"
      ],
      "text/plain": [
       "                               bidder_id  number of bids  \\\n",
       "0  060ac64ff78ae62e9bc697192cebea333760p             194   \n",
       "1  7505bfc1ca67a5ae14e329b46a88ab869ms9g             798   \n",
       "2  b1863365ae232a316eb946ba56a29415m0gdz            5329   \n",
       "3  458c8c4e10e5c1b29e3fbe5ee56d46e8y3fb3            1165   \n",
       "4  6533b670e02ccf583288ba7c8f5fb1carmirt             425   \n",
       "\n",
       "   avg arrival interval  min interval  \n",
       "0           63665394055    1187134502  \n",
       "1           17059763587    2011695906  \n",
       "2            2551307886      70175438  \n",
       "3           11717444384    2783625731  \n",
       "4           21576961271     222222222  "
      ]
     },
     "execution_count": 95,
     "metadata": {},
     "output_type": "execute_result"
    }
   ],
   "source": [
    "botData.head(5)"
   ]
  },
  {
   "cell_type": "code",
   "execution_count": 105,
   "metadata": {
    "collapsed": false
   },
   "outputs": [],
   "source": [
    "unitIntervalSqRoot = 10000000 #how to choose an interval ??\n",
    "unitInterval = unitIntervalSqRoot * unitIntervalSqRoot"
   ]
  },
  {
   "cell_type": "code",
   "execution_count": 106,
   "metadata": {
    "collapsed": false
   },
   "outputs": [
    {
     "data": {
      "text/plain": [
       "1875.3520400670327"
      ]
     },
     "execution_count": 106,
     "metadata": {},
     "output_type": "execute_result"
    }
   ],
   "source": [
    "1 / botData.get('avg arrival interval').dropna().mean() * unitInterval #rate(lambda)"
   ]
  },
  {
   "cell_type": "code",
   "execution_count": 107,
   "metadata": {
    "collapsed": false
   },
   "outputs": [
    {
     "data": {
      "text/plain": [
       "29.45420512473714"
      ]
     },
     "execution_count": 107,
     "metadata": {},
     "output_type": "execute_result"
    }
   ],
   "source": [
    "1 / humData.get('avg arrival interval').dropna().mean() * unitInterval"
   ]
  },
  {
   "cell_type": "code",
   "execution_count": 108,
   "metadata": {
    "collapsed": false
   },
   "outputs": [],
   "source": [
    "botLambda = 1 / botData.get('avg arrival interval').dropna().mean() * unitInterval\n",
    "humLambda = 1 / humData.get('avg arrival interval').dropna().mean() * unitInterval"
   ]
  },
  {
   "cell_type": "code",
   "execution_count": 109,
   "metadata": {
    "collapsed": true
   },
   "outputs": [],
   "source": [
    "botPoisson = np.random.poisson(botLambda, 100000)\n",
    "humPoisson = np.random.poisson(humLambda, 100000)"
   ]
  },
  {
   "cell_type": "code",
   "execution_count": 110,
   "metadata": {
    "collapsed": false
   },
   "outputs": [
    {
     "data": {
      "text/plain": [
       "(array([  2.13333333e-06,   9.60000000e-06,   4.00000000e-05,\n",
       "          1.48266667e-04,   4.88533333e-04,   1.29813333e-03,\n",
       "          2.80213333e-03,   4.69973333e-03,   7.30773333e-03,\n",
       "          9.01706667e-03,   9.02880000e-03,   7.25706667e-03,\n",
       "          5.52693333e-03,   3.20000000e-03,   1.56320000e-03,\n",
       "          6.22933333e-04,   2.35200000e-04,   6.02666667e-05,\n",
       "          2.02666667e-05,   5.33333333e-06]),\n",
       " array([ 1686.  ,  1704.75,  1723.5 ,  1742.25,  1761.  ,  1779.75,\n",
       "         1798.5 ,  1817.25,  1836.  ,  1854.75,  1873.5 ,  1892.25,\n",
       "         1911.  ,  1929.75,  1948.5 ,  1967.25,  1986.  ,  2004.75,\n",
       "         2023.5 ,  2042.25,  2061.  ]),\n",
       " <a list of 20 Patch objects>)"
      ]
     },
     "execution_count": 110,
     "metadata": {},
     "output_type": "execute_result"
    },
    {
     "data": {
      "image/png": "[encoded data removed]",
      "text/plain": [
       "<matplotlib.figure.Figure at 0x7f8bb2354410>"
      ]
     },
     "metadata": {},
     "output_type": "display_data"
    }
   ],
   "source": [
    "plt.hist(botPoisson, 20, normed=True)"
   ]
  },
  {
   "cell_type": "code",
   "execution_count": 111,
   "metadata": {
    "collapsed": false
   },
   "outputs": [
    {
     "data": {
      "text/plain": [
       "(array([  1.16666667e-04,   4.12500000e-04,   3.46250000e-03,\n",
       "          7.12916667e-03,   1.61666667e-02,   4.91333333e-02,\n",
       "          4.90541667e-02,   9.01375000e-02,   5.85750000e-02,\n",
       "          4.94666667e-02,   5.14458333e-02,   1.95166667e-02,\n",
       "          1.47208333e-02,   4.23333333e-03,   1.82500000e-03,\n",
       "          1.07916667e-03,   1.20833333e-04,   5.83333333e-05,\n",
       "          8.33333333e-06,   4.16666667e-06]),\n",
       " array([ 10. ,  12.4,  14.8,  17.2,  19.6,  22. ,  24.4,  26.8,  29.2,\n",
       "         31.6,  34. ,  36.4,  38.8,  41.2,  43.6,  46. ,  48.4,  50.8,\n",
       "         53.2,  55.6,  58. ]),\n",
       " <a list of 20 Patch objects>)"
      ]
     },
     "execution_count": 111,
     "metadata": {},
     "output_type": "execute_result"
    },
    {
     "data": {
      "image/png": "[encoded data removed]",
      "text/plain": [
       "<matplotlib.figure.Figure at 0x7f8bb21ddd10>"
      ]
     },
     "metadata": {},
     "output_type": "display_data"
    }
   ],
   "source": [
    "plt.hist(humPoisson, 20, normed=True)"
   ]
  },
  {
   "cell_type": "code",
   "execution_count": 112,
   "metadata": {
    "collapsed": false
   },
   "outputs": [
    {
     "data": {
      "text/plain": [
       "array([1907, 1939, 1910, ..., 1940, 1853, 1984])"
      ]
     },
     "execution_count": 112,
     "metadata": {},
     "output_type": "execute_result"
    }
   ],
   "source": [
    "botPoisson"
   ]
  },
  {
   "cell_type": "code",
   "execution_count": 113,
   "metadata": {
    "collapsed": false
   },
   "outputs": [
    {
     "name": "stdout",
     "output_type": "stream",
     "text": [
      "The rpy2.ipython extension is already loaded. To reload it, use:\n",
      "  %reload_ext rpy2.ipython\n"
     ]
    }
   ],
   "source": [
    "%load_ext rpy2.ipython"
   ]
  },
  {
   "cell_type": "code",
   "execution_count": 114,
   "metadata": {
    "collapsed": false
   },
   "outputs": [
    {
     "data": {
      "text/plain": [
       "[1] 10000000\n"
      ]
     },
     "metadata": {},
     "output_type": "display_data"
    }
   ],
   "source": [
    "%%R -i botLambda,humLambda,unitIntervalSqRoot #passing variables to R\n",
    "\n",
    "unitIntervalSqRoot"
   ]
  },
  {
   "cell_type": "code",
   "execution_count": 115,
   "metadata": {
    "collapsed": false
   },
   "outputs": [
    {
     "data": {
      "text/plain": [
       "[1] 10000000\n"
      ]
     },
     "metadata": {},
     "output_type": "display_data"
    }
   ],
   "source": [
    "%%R\n",
    "\n",
    "unitIntervalSqRoot"
   ]
  },
  {
   "cell_type": "code",
   "execution_count": 116,
   "metadata": {
    "collapsed": false
   },
   "outputs": [
    {
     "data": {
      "text/plain": [
       "[1] 0.5028985\n"
      ]
     },
     "metadata": {},
     "output_type": "display_data"
    }
   ],
   "source": [
    "%%R\n",
    "\n",
    "ppois(botLambda, lambda=botLambda)"
   ]
  },
  {
   "cell_type": "code",
   "execution_count": 117,
   "metadata": {
    "collapsed": true
   },
   "outputs": [],
   "source": [
    "%%R\n",
    "testDataSet = read.csv( file=\"test_bidders_info.csv\", header=TRUE )"
   ]
  },
  {
   "cell_type": "code",
   "execution_count": 118,
   "metadata": {
    "collapsed": false
   },
   "outputs": [
    {
     "data": {
      "text/plain": [
       "NULL\n"
      ]
     },
     "metadata": {},
     "output_type": "display_data"
    }
   ],
   "source": [
    "%%R\n",
    "\n",
    "#head(testDataSet)"
   ]
  },
  {
   "cell_type": "code",
   "execution_count": 119,
   "metadata": {
    "collapsed": false
   },
   "outputs": [
    {
     "data": {
      "text/plain": [
       "[1] 58.82138\n"
      ]
     },
     "metadata": {},
     "output_type": "display_data"
    }
   ],
   "source": [
    "%%R\n",
    "\n",
    "testVal = 1 / testDataSet[1,3] * unitIntervalSqRoot * unitIntervalSqRoot ##rate(lambda)\n",
    "testVal"
   ]
  },
  {
   "cell_type": "code",
   "execution_count": 120,
   "metadata": {
    "collapsed": false
   },
   "outputs": [
    {
     "data": {
      "text/plain": [
       "[1] \"7d804e4c5a1da2ad391ab5f67a9db4f5jdlj6\"\n"
      ]
     },
     "metadata": {},
     "output_type": "display_data"
    }
   ],
   "source": [
    "%%R\n",
    "\n",
    "toString(testDataSet[1,1])"
   ]
  },
  {
   "cell_type": "code",
   "execution_count": 121,
   "metadata": {
    "collapsed": false
   },
   "outputs": [
    {
     "data": {
      "text/plain": [
       "rate: 58.8213845659599\n",
       "bot poisson dist prob: 0\n",
       "hum poisson dist prob: 1.11576687622517e-06\n"
      ]
     },
     "metadata": {},
     "output_type": "display_data"
    }
   ],
   "source": [
    "%%R\n",
    "\n",
    "#get poisson distribution in R\n",
    "\n",
    "botDistProb = ppois(testVal, lambda=botLambda) - ppois(testVal-1, lambda=botLambda)\n",
    "humDistProb = ppois(testVal, lambda=humLambda) - ppois(testVal-1, lambda=humLambda)\n",
    "\n",
    "cat(sprintf(\"rate: %s\\n\", testVal))\n",
    "cat(sprintf(\"bot poisson dist prob: %s\\n\", botDistProb))\n",
    "cat(sprintf(\"hum poisson dist prob: %s\\n\", humDistProb))"
   ]
  },
  {
   "cell_type": "code",
   "execution_count": 122,
   "metadata": {
    "collapsed": false
   },
   "outputs": [],
   "source": [
    "%%R\n",
    "\n",
    "#get results by comparing poisson probability\n",
    "\n",
    "resultDF <- data.frame(matrix(ncol=2, nrow=4630))\n",
    "\n",
    "for (row in 1:nrow(testDataSet)) {\n",
    "    id = toString(testDataSet[row, 1])\n",
    "    \n",
    "    if(is.na(testDataSet[row, 3])) {\n",
    "        resultDF[row,1] = id\n",
    "        resultDF[row,2] = 0 #0=human\n",
    "        next\n",
    "    }\n",
    "    \n",
    "    currInterval = testDataSet[row, 3]\n",
    "    currRate = 1 / currInterval * unitIntervalSqRoot * unitIntervalSqRoot\n",
    "    currBotDistProb = as.numeric(ppois(currRate, lambda=botLambda) - ppois(currRate-1, lambda=botLambda))\n",
    "    currHumDistProb = as.numeric(ppois(currRate, lambda=humLambda) - ppois(currRate-1, lambda=humLambda))\n",
    "    \n",
    "    if(currHumDistProb < currBotDistProb) { #it's a bot\n",
    "        resultDF[row,1] = id\n",
    "        resultDF[row,2] = 1 #1=bot\n",
    "    } else {\n",
    "        resultDF[row,1] = id\n",
    "        resultDF[row,2] = 0\n",
    "    }\n",
    "    #cat(sprintf(\"%s, %s\\n\", currBotDistProb, currHumDistProb))\n",
    "}"
   ]
  },
  {
   "cell_type": "code",
   "execution_count": 123,
   "metadata": {
    "collapsed": true
   },
   "outputs": [],
   "source": [
    "%%R\n",
    "\n",
    "#write results\n",
    "write.csv(resultDF, file = \"test_result_R.csv\", row.names = FALSE)"
   ]
  },
  {
   "cell_type": "code",
   "execution_count": 124,
   "metadata": {
    "collapsed": false
   },
   "outputs": [
    {
     "name": "stdout",
     "output_type": "stream",
     "text": [
      "ell\n"
     ]
    }
   ],
   "source": [
    "str = \"hello\"\n",
    "\n",
    "print str[1:len(str)-1]"
   ]
  },
  {
   "cell_type": "code",
   "execution_count": 126,
   "metadata": {
    "collapsed": false
   },
   "outputs": [
    {
     "name": "stdout",
     "output_type": "stream",
     "text": [
      "4630\n"
     ]
    }
   ],
   "source": [
    "#finalize results for submission with python\n",
    "\n",
    "import csv\n",
    "\n",
    "#store the results in hash map\n",
    "\n",
    "fin = open('test_result_R.csv', 'rU')\n",
    "rdr = csv.reader(fin, delimiter=',')\n",
    "\n",
    "bidderIdToClass = {} #bidder id => classification (0=human or 1=bot)\n",
    "\n",
    "for row in rdr:\n",
    "    bidderId = row[0]\n",
    "    classification = row[1]\n",
    "    if bidderId == \"X1\": #ignore header\n",
    "        continue\n",
    "    if bidderIdToClass.has_key(bidderId):\n",
    "        print(\"Error !!\")\n",
    "        break\n",
    "    else:\n",
    "        bidderIdToClass[bidderId] = classification\n",
    "\n",
    "fin.close()\n",
    "        \n",
    "print(len(bidderIdToClass))\n",
    "\n",
    "#write to result file\n",
    "fin = open('sampleSubmission.csv', 'rU')\n",
    "rdr = csv.reader(fin, delimiter=',')\n",
    "\n",
    "fout = open('realSubmission.csv', 'wb')\n",
    "wtr = csv.writer(fout, delimiter=',')\n",
    "\n",
    "for row in rdr:\n",
    "    bidderId = row[0]\n",
    "    if bidderId == \"bidder_id\":\n",
    "        wtr.writerow(['bidder_id', 'prediction'])\n",
    "    elif bidderIdToClass.has_key(bidderId):\n",
    "        wtr.writerow([bidderId, bidderIdToClass[bidderId]])\n",
    "    else:\n",
    "        wtr.writerow([bidderId, 0])\n",
    "        \n",
    "fin.close()\n",
    "fout.close()"
   ]
  },
  {
   "cell_type": "code",
   "execution_count": null,
   "metadata": {
    "collapsed": true
   },
   "outputs": [],
   "source": []
  },
  {
   "cell_type": "code",
   "execution_count": null,
   "metadata": {
    "collapsed": true
   },
   "outputs": [],
   "source": []
  }
 ],
 "metadata": {
  "kernelspec": {
   "display_name": "Python 2",
   "language": "python",
   "name": "python2"
  },
  "language_info": {
   "codemirror_mode": {
    "name": "ipython",
    "version": 2
   },
   "file_extension": ".py",
   "mimetype": "text/x-python",
   "name": "python",
   "nbconvert_exporter": "python",
   "pygments_lexer": "ipython2",
   "version": "2.7.9"
  }
 },
 "nbformat": 4,
 "nbformat_minor": 0
}
